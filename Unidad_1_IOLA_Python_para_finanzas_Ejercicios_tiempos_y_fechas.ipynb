{
  "nbformat": 4,
  "nbformat_minor": 0,
  "metadata": {
    "kernelspec": {
      "display_name": "p36workshop",
      "language": "python",
      "name": "p36workshop"
    },
    "language_info": {
      "codemirror_mode": {
        "name": "ipython",
        "version": 3
      },
      "file_extension": ".py",
      "mimetype": "text/x-python",
      "name": "python",
      "nbconvert_exporter": "python",
      "pygments_lexer": "ipython3",
      "version": "3.6.10"
    },
    "colab": {
      "name": "Unidad 1: IOLA Python para finanzas - Ejercicios tiempos y fechas.ipynb",
      "provenance": [],
      "collapsed_sections": [],
      "include_colab_link": true
    }
  },
  "cells": [
    {
      "cell_type": "markdown",
      "metadata": {
        "id": "view-in-github",
        "colab_type": "text"
      },
      "source": [
        "<a href=\"https://colab.research.google.com/github/Oracle3000/gatsby-starter-minimal/blob/master/Unidad_1_IOLA_Python_para_finanzas_Ejercicios_tiempos_y_fechas.ipynb\" target=\"_parent\"><img src=\"https://colab.research.google.com/assets/colab-badge.svg\" alt=\"Open In Colab\"/></a>"
      ]
    },
    {
      "cell_type": "markdown",
      "metadata": {
        "id": "e-JcTSvmi8p7"
      },
      "source": [
        "## Guia de ejercicios tiempos y fechas\n",
        "**Profesor**: Ignacio Guardines\n",
        "<br>\n",
        "**telegram | twitter** :@nacho_java "
      ]
    },
    {
      "cell_type": "markdown",
      "metadata": {
        "id": "4U3LQIY-HZyw"
      },
      "source": [
        "## Ejercicio, imprimiendo fechas y tiempos con formato especifico.\n",
        "<small>por medio de la funcion now() del modulo datetime.datetime obtener el instante actual.\n",
        "\n",
        "Imprimir de dicho instante:\n",
        "- El tiempo: HH:MM:SS\n",
        "- Fecha y tiempo en formato :MMDDYYYY - HH:MM:SS\n",
        "- Tiempo y fecha en formato :HH:MM:SS * MMDDYYYY </small>"
      ]
    },
    {
      "cell_type": "code",
      "metadata": {
        "id": "uzIuxYzuNyAM"
      },
      "source": [
        "from datetime import datetime as dt"
      ],
      "execution_count": 7,
      "outputs": []
    },
    {
      "cell_type": "code",
      "metadata": {
        "id": "gSSYppzGNx7q",
        "colab": {
          "base_uri": "https://localhost:8080/"
        },
        "outputId": "b2aa263f-c584-42fd-b5af-6e3391cbaa70"
      },
      "source": [
        "ahora = dt.now()\n",
        "tiempo = ahora.strftime(\"%H:%M:%S\")\n",
        "print(f\"chupa pija  {(tiempo)}\")"
      ],
      "execution_count": 22,
      "outputs": [
        {
          "output_type": "stream",
          "name": "stdout",
          "text": [
            "chupa pija  23:27:46\n"
          ]
        }
      ]
    },
    {
      "cell_type": "code",
      "source": [
        ""
      ],
      "metadata": {
        "id": "ZvtD6mf5kkTG"
      },
      "execution_count": null,
      "outputs": []
    },
    {
      "cell_type": "code",
      "metadata": {
        "id": "x3fzhux3hItI",
        "colab": {
          "base_uri": "https://localhost:8080/"
        },
        "outputId": "ec1a61ed-ec46-4ce1-dfe8-01b59f3f0d1e"
      },
      "source": [
        "#posible solucion\n",
        "from datetime import datetime as dt\n",
        "\n",
        "# la fecha y hora actual osea el instante actual\n",
        "ahora = dt.now()\n",
        "\n",
        "\"\"\"\n",
        "Con la funcion strftime del datetime, vamos a poder indicar como se tiene que \n",
        "formatear el string a mostrar, devuelve un valor del tipo str\n",
        "\"\"\"\n",
        "\n",
        "tiempo = ahora.strftime(\"%H:%M:%S\")\n",
        "\n",
        "# formato mm/dd/YY - H:M:S \n",
        "fecha_tiempo = ahora.strftime(\"%m/%d/%Y - %H:%M:%S\")\n",
        "\n",
        "# formato HH:MM:SS * MMDDYYYY\n",
        "tiempo_fecha = ahora.strftime(\"%H:%M:%S * %m/%d/%Y\")\n",
        "\n",
        "print(f\"el tipo de dato de tiempo es {type(tiempo)}\")\n",
        "print(f\"el tipo de dato de fecha y tiempo es {type(fecha_tiempo)}\")\n",
        "print(f\"el tipo de dato de tiempo y fecha es {type(tiempo_fecha)}\")\n",
        "\n",
        "print(f\"Solo horas, minutos y segundos:  {tiempo}\" )\n",
        "print(f\"Con el primer formato:           {fecha_tiempo}\")\n",
        "print(f\"Con el segundo formato:          {tiempo_fecha}\")\n"
      ],
      "execution_count": 5,
      "outputs": [
        {
          "output_type": "stream",
          "name": "stdout",
          "text": [
            "el tipo de dato de tiempo es <class 'str'>\n",
            "el tipo de dato de fecha y tiempo es <class 'str'>\n",
            "el tipo de dato de tiempo y fecha es <class 'str'>\n",
            "Solo horas, minutos y segundos:  23:20:17\n",
            "Con el primer formato:           01/25/2022 - 23:20:17\n",
            "Con el segundo formato:          23:20:17 * 01/25/2022\n"
          ]
        }
      ]
    },
    {
      "cell_type": "markdown",
      "metadata": {
        "id": "oIWNgr_PhItK"
      },
      "source": [
        "## Ejercicio imprimiendo fechas y tiempos por partes. \n",
        "<small>Se requiere obtener el instante actual y con el uso de la funcion strftime imprimir cada parte del \n",
        "mismo en lineas separadas, esto seria, dia, mes, año, hora, minutos, segundos, dia de la semana, el dia del mes y el dia del año\n",
        "por ej print(\"hoy es el dia %d\", ahora.strf...)</small>\n"
      ]
    },
    {
      "cell_type": "code",
      "metadata": {
        "id": "czRqrdV3hItK",
        "colab": {
          "base_uri": "https://localhost:8080/"
        },
        "outputId": "91e02df1-f26b-44ba-89e5-90a03dd9862e"
      },
      "source": [
        "print(\"día\", ahora.strftime(\"%d\"))\n",
        "print(\"mes\", ahora.strftime(\"%m\"))\n",
        "print(\"año\", ahora.strftime(\"%y\"))\n",
        "print(\"hora\", ahora.strftime(\"%H\"))\n",
        "print(\"minutos\", ahora.strftime(\"%M\"))\n",
        "print(\"segundos\", ahora.strftime(\"%S\"))"
      ],
      "execution_count": 36,
      "outputs": [
        {
          "output_type": "stream",
          "name": "stdout",
          "text": [
            "día 25\n",
            "mes 01\n",
            "año 22\n",
            "hora 23\n",
            "minutos 27\n",
            "segundos 46\n"
          ]
        }
      ]
    },
    {
      "cell_type": "code",
      "metadata": {
        "id": "2HX0oUZyhItL"
      },
      "source": [
        ""
      ],
      "execution_count": null,
      "outputs": []
    },
    {
      "cell_type": "code",
      "metadata": {
        "id": "AgweQP8PLsHn"
      },
      "source": [
        "#posible solución\n",
        "from datetime import datetime as dt\n",
        "\n",
        "ahora = dt.now()\n",
        "\n",
        "print(\"Día:\", ahora.strftime(\"%d\"))\n",
        "print(\"Mes:\", ahora.strftime(\"%m\"))\n",
        "print(\"Año:\", ahora.strftime(\"%Y\"))\n",
        "print(\"Hora:\", ahora.strftime(\"%H\"))\n",
        "print(\"Minutos:\", ahora.strftime(\"%M\"))\n",
        "print(\"Segundos:\", ahora.strftime(\"%S\"))\n",
        "\n",
        "print(ahora.strftime('Día :%d, Mes: %m, Año: %Y, Hora: %H, Minutos: %M, Segundos: %S'))\n"
      ],
      "execution_count": null,
      "outputs": []
    },
    {
      "cell_type": "markdown",
      "metadata": {
        "id": "B8mrwYo6hItL"
      },
      "source": [
        "## Ejercicio convirtiendo un String a un datetime\n",
        "**Para esto se usa la funcion strptime**\n",
        "\n",
        "<small>Convertir string a instante\n",
        "<br>\n",
        "- Convertir el string '20/07/2020' a datetime notar que es dia, mes, año, el convertirlo sirve para luego poder utilizar las aritmeticas que este modulo ofrece, notar que horas, minutos y segundos van a quedar en 0 ya que la libreria no puede determinar que valores corresponden debido a que estan ausentes\n",
        "- Convertir el string \"06/07/2020 15:23:01\" a datetime, siendo mes dia y año</small>\n",
        "- obtener e imprimir la fecha del primer datetime  - formato iso\n",
        "- obtener e imprimir la fecha del segundo datetime - formato iso\n"
      ]
    },
    {
      "cell_type": "code",
      "metadata": {
        "id": "u6khv7B_R6ib",
        "colab": {
          "base_uri": "https://localhost:8080/"
        },
        "outputId": "326eb400-736a-49ce-f682-09c64a12b37c"
      },
      "source": [
        "from datetime import datetime\n",
        "Enstring = ('20/07/2020')\n",
        "print(datetime.strptime(Enstring, \"%d/%m/%Y\"))\n",
        "\n",
        "\n",
        "\n",
        "\n"
      ],
      "execution_count": 47,
      "outputs": [
        {
          "output_type": "stream",
          "name": "stdout",
          "text": [
            "2020-07-20 00:00:00\n"
          ]
        }
      ]
    },
    {
      "cell_type": "code",
      "metadata": {
        "id": "ztsLsIOmR6d2",
        "colab": {
          "base_uri": "https://localhost:8080/"
        },
        "outputId": "5a276375-9817-4147-cec2-59df1050f016"
      },
      "source": [
        "from datetime import datetime\n",
        "String = \"06/07/2020 15:23:01\"\n",
        "print(datetime.strptime(String,\"%m/%d/%Y  %H:%M:%S\"))"
      ],
      "execution_count": 55,
      "outputs": [
        {
          "output_type": "stream",
          "name": "stdout",
          "text": [
            "2020-06-07 15:23:01\n"
          ]
        }
      ]
    },
    {
      "cell_type": "code",
      "metadata": {
        "id": "YjRuruhPR6Zq",
        "colab": {
          "base_uri": "https://localhost:8080/"
        },
        "outputId": "7daa3d50-689f-4194-a7f8-c5e46731d9e9"
      },
      "source": [
        "print(datetime.strptime(String,\"%d/%m/%Y %H:%M:%S\").date())\n",
        "      "
      ],
      "execution_count": 62,
      "outputs": [
        {
          "output_type": "stream",
          "name": "stdout",
          "text": [
            "2020-07-06\n"
          ]
        }
      ]
    },
    {
      "cell_type": "code",
      "metadata": {
        "id": "sZbvaGCRhItL",
        "colab": {
          "base_uri": "https://localhost:8080/"
        },
        "outputId": "2fb4eb7c-460d-4098-aef7-e430d3665e3c"
      },
      "source": [
        "#Posible solucion\n",
        "from datetime import datetime\n",
        "\n",
        "# Convertimos un string con formato <día>/<mes>/<año> en datetime\n",
        "una_fecha_string = '20/07/2020'\n",
        "instate_como_string = \"06/07/2020 15:23:01\"\n",
        "print(\"Punto 1                    \", datetime.strptime(una_fecha_string, '%d/%m/%Y'))\n",
        "\n",
        "# Convertimos un string con formato <día>/<mes>/<año>  <hora>:<minutos>:<segundos> en datetime \n",
        "print(\"punto 2                    \", datetime.strptime(instate_como_string, '%d/%m/%Y %H:%M:%S'))\n",
        "print(f\"solo la fecha punto 1:      {datetime.strptime(una_fecha_string, '%d/%m/%Y').date()}\")\n",
        "print(f\"solo la fecha punto 2:      {datetime.strptime(instate_como_string, '%d/%m/%Y %H:%M:%S').date()}\")"
      ],
      "execution_count": null,
      "outputs": [
        {
          "output_type": "stream",
          "text": [
            "Punto 1                     2020-07-20 00:00:00\n",
            "punto 2                     2020-07-06 15:23:01\n",
            "solo la fecha punto 1:      2020-07-20\n",
            "solo la fecha punto 2:      2020-07-06\n"
          ],
          "name": "stdout"
        }
      ]
    },
    {
      "cell_type": "code",
      "metadata": {
        "id": "_y4NJdE6hItM"
      },
      "source": [
        ""
      ],
      "execution_count": null,
      "outputs": []
    },
    {
      "cell_type": "code",
      "metadata": {
        "id": "7aBmEHn0hItM"
      },
      "source": [
        ""
      ],
      "execution_count": null,
      "outputs": []
    },
    {
      "cell_type": "markdown",
      "metadata": {
        "id": "wCqRF6XLhItM"
      },
      "source": [
        "## Ejercicio formateando un instante\n",
        "<small>En el instante \"2020-03-20T14:28:23.382748\" representa un instante en el que se coloco por medio de un bot una orden compra de 100000 nominales del ticker TSLA se solicita transformar dicho string a un datetime.\n",
        "<small>"
      ]
    },
    {
      "cell_type": "code",
      "metadata": {
        "id": "jxFcQipYhItN",
        "colab": {
          "base_uri": "https://localhost:8080/"
        },
        "outputId": "b792e7d6-d1dc-401a-a0aa-7fdbd1a9e899"
      },
      "source": [
        "from datetime import datetime as dt\n",
        "momento = \"2020-03-20T14:28:23.382748\" \n",
        "instante = dt.strptime(momento, \"%Y-%m-%dT%H:%M:%S.%f\")\n",
        "print(instante)"
      ],
      "execution_count": 64,
      "outputs": [
        {
          "output_type": "stream",
          "name": "stdout",
          "text": [
            "2020-03-20 14:28:23.382748\n"
          ]
        }
      ]
    },
    {
      "cell_type": "code",
      "metadata": {
        "id": "LWSywTgaSibw"
      },
      "source": [
        ""
      ],
      "execution_count": null,
      "outputs": []
    },
    {
      "cell_type": "code",
      "metadata": {
        "id": "_XI5X9mghItO"
      },
      "source": [
        ""
      ],
      "execution_count": null,
      "outputs": []
    },
    {
      "cell_type": "code",
      "metadata": {
        "colab": {
          "base_uri": "https://localhost:8080/"
        },
        "id": "hfJRIg40R9fG",
        "outputId": "2a90c489-8f19-4696-a8a1-b15c81136186"
      },
      "source": [
        "#Posible solucion\n",
        "from datetime import datetime as dt\n",
        "\n",
        "instante_compra = \"2020-03-20T14:28:23.382748\"\n",
        "instante = dt.strptime(instante_compra, '%Y-%m-%dT%H:%M:%S.%f')\n",
        "print(instante)"
      ],
      "execution_count": null,
      "outputs": [
        {
          "output_type": "stream",
          "text": [
            "2020-03-20 14:28:23.382748\n"
          ],
          "name": "stdout"
        }
      ]
    },
    {
      "cell_type": "markdown",
      "metadata": {
        "id": "COisPVjmhItO"
      },
      "source": [
        "## Ejercicio agregando dias horas y minutos\n",
        "<small> Se requiere determinar e imprimir el instante de tiempo que será en una próxima clase hipotetica a comenzar en 2 dias, 4 horas y 55 segundos."
      ]
    },
    {
      "cell_type": "code",
      "metadata": {
        "id": "1tCbuFBChItP",
        "colab": {
          "base_uri": "https://localhost:8080/"
        },
        "outputId": "f5503918-7896-4c17-fdfa-7670f3fe00e3"
      },
      "source": [
        "from datetime import datetime as date, timedelta\n",
        "ahora = datetime.now()\n",
        "programado = timedelta(days = 2, hours = 4, seconds = 55)\n",
        "print(ahora + programado)"
      ],
      "execution_count": 68,
      "outputs": [
        {
          "output_type": "stream",
          "name": "stdout",
          "text": [
            "2022-01-28 04:04:17.379275\n"
          ]
        }
      ]
    },
    {
      "cell_type": "code",
      "metadata": {
        "id": "ecGp-f-khItP"
      },
      "source": [
        ""
      ],
      "execution_count": null,
      "outputs": []
    },
    {
      "cell_type": "code",
      "metadata": {
        "id": "kFkbVokmUcj1"
      },
      "source": [
        ""
      ],
      "execution_count": null,
      "outputs": []
    },
    {
      "cell_type": "code",
      "metadata": {
        "colab": {
          "base_uri": "https://localhost:8080/"
        },
        "id": "x-2rZsYyS_-l",
        "outputId": "128d105e-b63c-4a35-8ba0-359fb0aee014"
      },
      "source": [
        "#Posible solución\n",
        "from datetime import datetime, timedelta\n",
        "\n",
        "ahora = datetime . now()\n",
        "en_el_futuro = timedelta(days = 2, hours = 4, seconds = 55)\n",
        "\n",
        "print(ahora + en_el_futuro)"
      ],
      "execution_count": 70,
      "outputs": [
        {
          "output_type": "stream",
          "name": "stdout",
          "text": [
            "2022-01-28 04:04:38.767322\n"
          ]
        }
      ]
    },
    {
      "cell_type": "markdown",
      "metadata": {
        "id": "uSh3c4-khItP"
      },
      "source": [
        "## Ejercicio quitando dias horas y minutos\n",
        "<small> Se requiere determinar e imprimir el instante de tiempo que pasó ayer con 5 horas y 23 segundos menos."
      ]
    },
    {
      "cell_type": "code",
      "metadata": {
        "id": "2nM3P8hPhItP",
        "colab": {
          "base_uri": "https://localhost:8080/"
        },
        "outputId": "cbd5a7a2-c743-4cf2-c01b-2219e2c1a777"
      },
      "source": [
        "from datetime import datetime as dt, timedelta\n",
        "ahora = datetime.now()\n",
        "Pasado = timedelta(hours = -5, seconds = -23)\n",
        "print(ahora + Pasado)"
      ],
      "execution_count": 76,
      "outputs": [
        {
          "output_type": "stream",
          "name": "stdout",
          "text": [
            "2022-01-25 19:05:45.854806\n"
          ]
        }
      ]
    },
    {
      "cell_type": "code",
      "metadata": {
        "id": "wKvIk4xmhItQ"
      },
      "source": [
        ""
      ],
      "execution_count": null,
      "outputs": []
    },
    {
      "cell_type": "code",
      "metadata": {
        "id": "-HjyTyTaaDnS"
      },
      "source": [
        ""
      ],
      "execution_count": null,
      "outputs": []
    },
    {
      "cell_type": "code",
      "metadata": {
        "colab": {
          "base_uri": "https://localhost:8080/"
        },
        "id": "o6cjEVf5ZuLM",
        "outputId": "c1723be7-f193-46ae-8f71-b21ddffdeaaf"
      },
      "source": [
        "#Posible solución\n",
        "from datetime import datetime, timedelta\n",
        "\n",
        "ahora = datetime . now()\n",
        "en_el_pasado = timedelta(days = 1,\n",
        "                       hours = 5,\n",
        "                       seconds = 23)\n",
        "\n",
        "print(ahora + en_el_pasado)"
      ],
      "execution_count": 74,
      "outputs": [
        {
          "output_type": "stream",
          "name": "stdout",
          "text": [
            "2022-01-27 05:06:15.266564\n"
          ]
        }
      ]
    },
    {
      "cell_type": "markdown",
      "metadata": {
        "id": "W8F2MSWnhItQ"
      },
      "source": [
        "## Trabajando con zonas horarias\n",
        "<small>\n",
        "from datetime import datetime\n",
        "<br>\n",
        "from pytz import timezone\n",
        "\n",
        "fmt = \"%Y-%m-%d %H:%M:%S %Z%z\"\n",
        "\n",
        "##### Current time in UTC\n",
        "now_utc = datetime.now(timezone('UTC'))\n",
        "print now_utc.strftime(fmt)\n",
        "\n",
        "##### Convert to US/Pacific time zone\n",
        "now_pacific = now_utc.astimezone(timezone('US/Pacific'))\n",
        "print now_pacific.strftime(fmt)\n",
        "\n",
        "##### Convert to Europe/Berlin time zone\n",
        "now_berlin = now_pacific.astimezone(timezone('Europe/Berlin'))\n",
        "print now_berlin.strftime(fmt)\n",
        "</small>"
      ]
    },
    {
      "cell_type": "markdown",
      "metadata": {
        "id": "jlBhMBpahItQ"
      },
      "source": [
        "## Ejercicio cambiando los timezones\n",
        "<small>Crear el instante del dia viernes 10 de Julio del 2020 a las 12:01:45 del mediodia o pm como prefieran.\n",
        "<br>\n",
        "Se debera transformar dicho instante a a otros con diferentes zonas horarias e imprimirlos, tales como Rusia/moscu España/Madrid, Mexico, Colombia y Argentina\n",
        " Si en el grupo contamos con alguna persona de otro pais, por favor aclarlo y agregar dicho timezone\n",
        " </small>"
      ]
    },
    {
      "cell_type": "code",
      "source": [
        "\n",
        "from datetime import datetime\n",
        "momento = \"2020-03-20T14:28:23.382748\" \n",
        "instante = dt.strptime(momento, \"%Y-%m-%dT%H:%M:%S.%f\")\n",
        "print(instante)\n",
        "\n"
      ],
      "metadata": {
        "colab": {
          "base_uri": "https://localhost:8080/"
        },
        "id": "vEknb_CXtj-6",
        "outputId": "1921c185-b7e1-42c6-a755-7275764dedcc"
      },
      "execution_count": 94,
      "outputs": [
        {
          "output_type": "stream",
          "name": "stdout",
          "text": [
            "2020-03-20 14:28:23.382748\n"
          ]
        }
      ]
    },
    {
      "cell_type": "code",
      "source": [
        "from datetime import datetime\n",
        "from pytz import timezone\n",
        "## 10 de Julio del 2020 a las 12:01:45\n",
        "##\"%Y-%m-%d %H:%M:%S\n",
        "Instante2 =\"2020-07-10 12:01:45\"\n",
        "Instante3 = dt.strptime(Instante2, \"%Y-%m-%d %H:%M:%S\")\n",
        "##2020-07-10 12:01:45\n",
        "print(Instante3)\n",
        "nuevo_utc = datetime.now(timezone('UTC'))\n",
        "now_pacific = nuevo_utc.astimezone(timezone('US/Pacific'))\n",
        "print(now_pacific.strftime(\"%Y-%m-%d %H:%M:%S\"))\n",
        "print(now_pacific.strftime(\"2020-07-10 12:01:45\")\n",
        "\n",
        "\n",
        "\n"
      ],
      "metadata": {
        "id": "RrvZaO3S3UdL",
        "outputId": "76320cf6-906b-4efe-a050-edc6ad594692",
        "colab": {
          "base_uri": "https://localhost:8080/",
          "height": 130
        }
      },
      "execution_count": 100,
      "outputs": [
        {
          "output_type": "error",
          "ename": "SyntaxError",
          "evalue": "ignored",
          "traceback": [
            "\u001b[0;36m  File \u001b[0;32m\"<ipython-input-100-9af7635ecb62>\"\u001b[0;36m, line \u001b[0;32m12\u001b[0m\n\u001b[0;31m    print(now_pacific.strftime(\"2020-07-10 12:01:45\")\u001b[0m\n\u001b[0m                                                     ^\u001b[0m\n\u001b[0;31mSyntaxError\u001b[0m\u001b[0;31m:\u001b[0m unexpected EOF while parsing\n"
          ]
        }
      ]
    },
    {
      "cell_type": "code",
      "source": [
        ""
      ],
      "metadata": {
        "id": "5GFtXi_b3UjU"
      },
      "execution_count": null,
      "outputs": []
    },
    {
      "cell_type": "markdown",
      "metadata": {
        "id": "I2GjdKEKkmto"
      },
      "source": [
        "## Obteniento todos los timezones disponibles"
      ]
    },
    {
      "cell_type": "code",
      "metadata": {
        "id": "kXAvwBxhhItQ",
        "colab": {
          "base_uri": "https://localhost:8080/"
        },
        "outputId": "3ec2708d-3c35-48a9-9237-d00b274afd29"
      },
      "source": [
        "import pytz\n",
        "pytz.all_timezones"
      ],
      "execution_count": 77,
      "outputs": [
        {
          "output_type": "execute_result",
          "data": {
            "text/plain": [
              "['Africa/Abidjan', 'Africa/Accra', 'Africa/Addis_Ababa', 'Africa/Algiers', 'Africa/Asmara', 'Africa/Asmera', 'Africa/Bamako', 'Africa/Bangui', 'Africa/Banjul', 'Africa/Bissau', 'Africa/Blantyre', 'Africa/Brazzaville', 'Africa/Bujumbura', 'Africa/Cairo', 'Africa/Casablanca', 'Africa/Ceuta', 'Africa/Conakry', 'Africa/Dakar', 'Africa/Dar_es_Salaam', 'Africa/Djibouti', 'Africa/Douala', 'Africa/El_Aaiun', 'Africa/Freetown', 'Africa/Gaborone', 'Africa/Harare', 'Africa/Johannesburg', 'Africa/Juba', 'Africa/Kampala', 'Africa/Khartoum', 'Africa/Kigali', 'Africa/Kinshasa', 'Africa/Lagos', 'Africa/Libreville', 'Africa/Lome', 'Africa/Luanda', 'Africa/Lubumbashi', 'Africa/Lusaka', 'Africa/Malabo', 'Africa/Maputo', 'Africa/Maseru', 'Africa/Mbabane', 'Africa/Mogadishu', 'Africa/Monrovia', 'Africa/Nairobi', 'Africa/Ndjamena', 'Africa/Niamey', 'Africa/Nouakchott', 'Africa/Ouagadougou', 'Africa/Porto-Novo', 'Africa/Sao_Tome', 'Africa/Timbuktu', 'Africa/Tripoli', 'Africa/Tunis', 'Africa/Windhoek', 'America/Adak', 'America/Anchorage', 'America/Anguilla', 'America/Antigua', 'America/Araguaina', 'America/Argentina/Buenos_Aires', 'America/Argentina/Catamarca', 'America/Argentina/ComodRivadavia', 'America/Argentina/Cordoba', 'America/Argentina/Jujuy', 'America/Argentina/La_Rioja', 'America/Argentina/Mendoza', 'America/Argentina/Rio_Gallegos', 'America/Argentina/Salta', 'America/Argentina/San_Juan', 'America/Argentina/San_Luis', 'America/Argentina/Tucuman', 'America/Argentina/Ushuaia', 'America/Aruba', 'America/Asuncion', 'America/Atikokan', 'America/Atka', 'America/Bahia', 'America/Bahia_Banderas', 'America/Barbados', 'America/Belem', 'America/Belize', 'America/Blanc-Sablon', 'America/Boa_Vista', 'America/Bogota', 'America/Boise', 'America/Buenos_Aires', 'America/Cambridge_Bay', 'America/Campo_Grande', 'America/Cancun', 'America/Caracas', 'America/Catamarca', 'America/Cayenne', 'America/Cayman', 'America/Chicago', 'America/Chihuahua', 'America/Coral_Harbour', 'America/Cordoba', 'America/Costa_Rica', 'America/Creston', 'America/Cuiaba', 'America/Curacao', 'America/Danmarkshavn', 'America/Dawson', 'America/Dawson_Creek', 'America/Denver', 'America/Detroit', 'America/Dominica', 'America/Edmonton', 'America/Eirunepe', 'America/El_Salvador', 'America/Ensenada', 'America/Fort_Nelson', 'America/Fort_Wayne', 'America/Fortaleza', 'America/Glace_Bay', 'America/Godthab', 'America/Goose_Bay', 'America/Grand_Turk', 'America/Grenada', 'America/Guadeloupe', 'America/Guatemala', 'America/Guayaquil', 'America/Guyana', 'America/Halifax', 'America/Havana', 'America/Hermosillo', 'America/Indiana/Indianapolis', 'America/Indiana/Knox', 'America/Indiana/Marengo', 'America/Indiana/Petersburg', 'America/Indiana/Tell_City', 'America/Indiana/Vevay', 'America/Indiana/Vincennes', 'America/Indiana/Winamac', 'America/Indianapolis', 'America/Inuvik', 'America/Iqaluit', 'America/Jamaica', 'America/Jujuy', 'America/Juneau', 'America/Kentucky/Louisville', 'America/Kentucky/Monticello', 'America/Knox_IN', 'America/Kralendijk', 'America/La_Paz', 'America/Lima', 'America/Los_Angeles', 'America/Louisville', 'America/Lower_Princes', 'America/Maceio', 'America/Managua', 'America/Manaus', 'America/Marigot', 'America/Martinique', 'America/Matamoros', 'America/Mazatlan', 'America/Mendoza', 'America/Menominee', 'America/Merida', 'America/Metlakatla', 'America/Mexico_City', 'America/Miquelon', 'America/Moncton', 'America/Monterrey', 'America/Montevideo', 'America/Montreal', 'America/Montserrat', 'America/Nassau', 'America/New_York', 'America/Nipigon', 'America/Nome', 'America/Noronha', 'America/North_Dakota/Beulah', 'America/North_Dakota/Center', 'America/North_Dakota/New_Salem', 'America/Ojinaga', 'America/Panama', 'America/Pangnirtung', 'America/Paramaribo', 'America/Phoenix', 'America/Port-au-Prince', 'America/Port_of_Spain', 'America/Porto_Acre', 'America/Porto_Velho', 'America/Puerto_Rico', 'America/Punta_Arenas', 'America/Rainy_River', 'America/Rankin_Inlet', 'America/Recife', 'America/Regina', 'America/Resolute', 'America/Rio_Branco', 'America/Rosario', 'America/Santa_Isabel', 'America/Santarem', 'America/Santiago', 'America/Santo_Domingo', 'America/Sao_Paulo', 'America/Scoresbysund', 'America/Shiprock', 'America/Sitka', 'America/St_Barthelemy', 'America/St_Johns', 'America/St_Kitts', 'America/St_Lucia', 'America/St_Thomas', 'America/St_Vincent', 'America/Swift_Current', 'America/Tegucigalpa', 'America/Thule', 'America/Thunder_Bay', 'America/Tijuana', 'America/Toronto', 'America/Tortola', 'America/Vancouver', 'America/Virgin', 'America/Whitehorse', 'America/Winnipeg', 'America/Yakutat', 'America/Yellowknife', 'Antarctica/Casey', 'Antarctica/Davis', 'Antarctica/DumontDUrville', 'Antarctica/Macquarie', 'Antarctica/Mawson', 'Antarctica/McMurdo', 'Antarctica/Palmer', 'Antarctica/Rothera', 'Antarctica/South_Pole', 'Antarctica/Syowa', 'Antarctica/Troll', 'Antarctica/Vostok', 'Arctic/Longyearbyen', 'Asia/Aden', 'Asia/Almaty', 'Asia/Amman', 'Asia/Anadyr', 'Asia/Aqtau', 'Asia/Aqtobe', 'Asia/Ashgabat', 'Asia/Ashkhabad', 'Asia/Atyrau', 'Asia/Baghdad', 'Asia/Bahrain', 'Asia/Baku', 'Asia/Bangkok', 'Asia/Barnaul', 'Asia/Beirut', 'Asia/Bishkek', 'Asia/Brunei', 'Asia/Calcutta', 'Asia/Chita', 'Asia/Choibalsan', 'Asia/Chongqing', 'Asia/Chungking', 'Asia/Colombo', 'Asia/Dacca', 'Asia/Damascus', 'Asia/Dhaka', 'Asia/Dili', 'Asia/Dubai', 'Asia/Dushanbe', 'Asia/Famagusta', 'Asia/Gaza', 'Asia/Harbin', 'Asia/Hebron', 'Asia/Ho_Chi_Minh', 'Asia/Hong_Kong', 'Asia/Hovd', 'Asia/Irkutsk', 'Asia/Istanbul', 'Asia/Jakarta', 'Asia/Jayapura', 'Asia/Jerusalem', 'Asia/Kabul', 'Asia/Kamchatka', 'Asia/Karachi', 'Asia/Kashgar', 'Asia/Kathmandu', 'Asia/Katmandu', 'Asia/Khandyga', 'Asia/Kolkata', 'Asia/Krasnoyarsk', 'Asia/Kuala_Lumpur', 'Asia/Kuching', 'Asia/Kuwait', 'Asia/Macao', 'Asia/Macau', 'Asia/Magadan', 'Asia/Makassar', 'Asia/Manila', 'Asia/Muscat', 'Asia/Nicosia', 'Asia/Novokuznetsk', 'Asia/Novosibirsk', 'Asia/Omsk', 'Asia/Oral', 'Asia/Phnom_Penh', 'Asia/Pontianak', 'Asia/Pyongyang', 'Asia/Qatar', 'Asia/Qostanay', 'Asia/Qyzylorda', 'Asia/Rangoon', 'Asia/Riyadh', 'Asia/Saigon', 'Asia/Sakhalin', 'Asia/Samarkand', 'Asia/Seoul', 'Asia/Shanghai', 'Asia/Singapore', 'Asia/Srednekolymsk', 'Asia/Taipei', 'Asia/Tashkent', 'Asia/Tbilisi', 'Asia/Tehran', 'Asia/Tel_Aviv', 'Asia/Thimbu', 'Asia/Thimphu', 'Asia/Tokyo', 'Asia/Tomsk', 'Asia/Ujung_Pandang', 'Asia/Ulaanbaatar', 'Asia/Ulan_Bator', 'Asia/Urumqi', 'Asia/Ust-Nera', 'Asia/Vientiane', 'Asia/Vladivostok', 'Asia/Yakutsk', 'Asia/Yangon', 'Asia/Yekaterinburg', 'Asia/Yerevan', 'Atlantic/Azores', 'Atlantic/Bermuda', 'Atlantic/Canary', 'Atlantic/Cape_Verde', 'Atlantic/Faeroe', 'Atlantic/Faroe', 'Atlantic/Jan_Mayen', 'Atlantic/Madeira', 'Atlantic/Reykjavik', 'Atlantic/South_Georgia', 'Atlantic/St_Helena', 'Atlantic/Stanley', 'Australia/ACT', 'Australia/Adelaide', 'Australia/Brisbane', 'Australia/Broken_Hill', 'Australia/Canberra', 'Australia/Currie', 'Australia/Darwin', 'Australia/Eucla', 'Australia/Hobart', 'Australia/LHI', 'Australia/Lindeman', 'Australia/Lord_Howe', 'Australia/Melbourne', 'Australia/NSW', 'Australia/North', 'Australia/Perth', 'Australia/Queensland', 'Australia/South', 'Australia/Sydney', 'Australia/Tasmania', 'Australia/Victoria', 'Australia/West', 'Australia/Yancowinna', 'Brazil/Acre', 'Brazil/DeNoronha', 'Brazil/East', 'Brazil/West', 'CET', 'CST6CDT', 'Canada/Atlantic', 'Canada/Central', 'Canada/Eastern', 'Canada/Mountain', 'Canada/Newfoundland', 'Canada/Pacific', 'Canada/Saskatchewan', 'Canada/Yukon', 'Chile/Continental', 'Chile/EasterIsland', 'Cuba', 'EET', 'EST', 'EST5EDT', 'Egypt', 'Eire', 'Etc/GMT', 'Etc/GMT+0', 'Etc/GMT+1', 'Etc/GMT+10', 'Etc/GMT+11', 'Etc/GMT+12', 'Etc/GMT+2', 'Etc/GMT+3', 'Etc/GMT+4', 'Etc/GMT+5', 'Etc/GMT+6', 'Etc/GMT+7', 'Etc/GMT+8', 'Etc/GMT+9', 'Etc/GMT-0', 'Etc/GMT-1', 'Etc/GMT-10', 'Etc/GMT-11', 'Etc/GMT-12', 'Etc/GMT-13', 'Etc/GMT-14', 'Etc/GMT-2', 'Etc/GMT-3', 'Etc/GMT-4', 'Etc/GMT-5', 'Etc/GMT-6', 'Etc/GMT-7', 'Etc/GMT-8', 'Etc/GMT-9', 'Etc/GMT0', 'Etc/Greenwich', 'Etc/UCT', 'Etc/UTC', 'Etc/Universal', 'Etc/Zulu', 'Europe/Amsterdam', 'Europe/Andorra', 'Europe/Astrakhan', 'Europe/Athens', 'Europe/Belfast', 'Europe/Belgrade', 'Europe/Berlin', 'Europe/Bratislava', 'Europe/Brussels', 'Europe/Bucharest', 'Europe/Budapest', 'Europe/Busingen', 'Europe/Chisinau', 'Europe/Copenhagen', 'Europe/Dublin', 'Europe/Gibraltar', 'Europe/Guernsey', 'Europe/Helsinki', 'Europe/Isle_of_Man', 'Europe/Istanbul', 'Europe/Jersey', 'Europe/Kaliningrad', 'Europe/Kiev', 'Europe/Kirov', 'Europe/Lisbon', 'Europe/Ljubljana', 'Europe/London', 'Europe/Luxembourg', 'Europe/Madrid', 'Europe/Malta', 'Europe/Mariehamn', 'Europe/Minsk', 'Europe/Monaco', 'Europe/Moscow', 'Europe/Nicosia', 'Europe/Oslo', 'Europe/Paris', 'Europe/Podgorica', 'Europe/Prague', 'Europe/Riga', 'Europe/Rome', 'Europe/Samara', 'Europe/San_Marino', 'Europe/Sarajevo', 'Europe/Saratov', 'Europe/Simferopol', 'Europe/Skopje', 'Europe/Sofia', 'Europe/Stockholm', 'Europe/Tallinn', 'Europe/Tirane', 'Europe/Tiraspol', 'Europe/Ulyanovsk', 'Europe/Uzhgorod', 'Europe/Vaduz', 'Europe/Vatican', 'Europe/Vienna', 'Europe/Vilnius', 'Europe/Volgograd', 'Europe/Warsaw', 'Europe/Zagreb', 'Europe/Zaporozhye', 'Europe/Zurich', 'GB', 'GB-Eire', 'GMT', 'GMT+0', 'GMT-0', 'GMT0', 'Greenwich', 'HST', 'Hongkong', 'Iceland', 'Indian/Antananarivo', 'Indian/Chagos', 'Indian/Christmas', 'Indian/Cocos', 'Indian/Comoro', 'Indian/Kerguelen', 'Indian/Mahe', 'Indian/Maldives', 'Indian/Mauritius', 'Indian/Mayotte', 'Indian/Reunion', 'Iran', 'Israel', 'Jamaica', 'Japan', 'Kwajalein', 'Libya', 'MET', 'MST', 'MST7MDT', 'Mexico/BajaNorte', 'Mexico/BajaSur', 'Mexico/General', 'NZ', 'NZ-CHAT', 'Navajo', 'PRC', 'PST8PDT', 'Pacific/Apia', 'Pacific/Auckland', 'Pacific/Bougainville', 'Pacific/Chatham', 'Pacific/Chuuk', 'Pacific/Easter', 'Pacific/Efate', 'Pacific/Enderbury', 'Pacific/Fakaofo', 'Pacific/Fiji', 'Pacific/Funafuti', 'Pacific/Galapagos', 'Pacific/Gambier', 'Pacific/Guadalcanal', 'Pacific/Guam', 'Pacific/Honolulu', 'Pacific/Johnston', 'Pacific/Kiritimati', 'Pacific/Kosrae', 'Pacific/Kwajalein', 'Pacific/Majuro', 'Pacific/Marquesas', 'Pacific/Midway', 'Pacific/Nauru', 'Pacific/Niue', 'Pacific/Norfolk', 'Pacific/Noumea', 'Pacific/Pago_Pago', 'Pacific/Palau', 'Pacific/Pitcairn', 'Pacific/Pohnpei', 'Pacific/Ponape', 'Pacific/Port_Moresby', 'Pacific/Rarotonga', 'Pacific/Saipan', 'Pacific/Samoa', 'Pacific/Tahiti', 'Pacific/Tarawa', 'Pacific/Tongatapu', 'Pacific/Truk', 'Pacific/Wake', 'Pacific/Wallis', 'Pacific/Yap', 'Poland', 'Portugal', 'ROC', 'ROK', 'Singapore', 'Turkey', 'UCT', 'US/Alaska', 'US/Aleutian', 'US/Arizona', 'US/Central', 'US/East-Indiana', 'US/Eastern', 'US/Hawaii', 'US/Indiana-Starke', 'US/Michigan', 'US/Mountain', 'US/Pacific', 'US/Samoa', 'UTC', 'Universal', 'W-SU', 'WET', 'Zulu']"
            ]
          },
          "metadata": {},
          "execution_count": 77
        }
      ]
    }
  ]
}