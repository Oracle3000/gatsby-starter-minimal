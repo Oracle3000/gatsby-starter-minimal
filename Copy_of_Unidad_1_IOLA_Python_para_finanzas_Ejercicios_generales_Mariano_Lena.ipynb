{
  "nbformat": 4,
  "nbformat_minor": 0,
  "metadata": {
    "colab": {
      "name": "Copy of Unidad 1: IOLA Python para finanzas - Ejercicios generales Mariano Lena.ipynb",
      "provenance": [],
      "collapsed_sections": [
        "vhLqd7sqi7i0",
        "UWvOlpnTj9a2"
      ],
      "include_colab_link": true
    },
    "kernelspec": {
      "name": "python3",
      "display_name": "Python 3"
    }
  },
  "cells": [
    {
      "cell_type": "markdown",
      "metadata": {
        "id": "view-in-github",
        "colab_type": "text"
      },
      "source": [
        "<a href=\"https://colab.research.google.com/github/Oracle3000/gatsby-starter-minimal/blob/master/Copy_of_Unidad_1_IOLA_Python_para_finanzas_Ejercicios_generales_Mariano_Lena.ipynb\" target=\"_parent\"><img src=\"https://colab.research.google.com/assets/colab-badge.svg\" alt=\"Open In Colab\"/></a>"
      ]
    },
    {
      "cell_type": "code",
      "source": [
        "Mariano Lena"
      ],
      "metadata": {
        "id": "nqXHF4mDauLv"
      },
      "execution_count": null,
      "outputs": []
    },
    {
      "cell_type": "markdown",
      "metadata": {
        "id": "kXHdomBahKbh"
      },
      "source": [
        "### Ejercicio 1\n",
        "\n",
        "Buscando en el cuaderno de la clase describir que es y para que programar."
      ]
    },
    {
      "cell_type": "code",
      "metadata": {
        "id": "rJboFTv9hsUA"
      },
      "source": [
        "\"Programar es utilizar un lenguaje de programación para establcer una serie de tareas lógicas con el objeto de facilitar y automatizar operatorias\""
      ],
      "execution_count": null,
      "outputs": []
    },
    {
      "cell_type": "code",
      "metadata": {
        "id": "0tJkyflAhsPL"
      },
      "source": [
        ""
      ],
      "execution_count": null,
      "outputs": []
    },
    {
      "cell_type": "code",
      "metadata": {
        "id": "yxJYU76MhsG5"
      },
      "source": [
        ""
      ],
      "execution_count": null,
      "outputs": []
    },
    {
      "cell_type": "markdown",
      "metadata": {
        "id": "F9d32gxLhhXr"
      },
      "source": [
        "### Ejercicio 2\n",
        "Explicar con sus palabras que es un algoritmo"
      ]
    },
    {
      "cell_type": "code",
      "metadata": {
        "id": "r1Y1L_t8htwS"
      },
      "source": [
        "Es una serie de instrucciones lógicas que sirven para realizar una tarea específica cuando se ejecuta su código"
      ],
      "execution_count": null,
      "outputs": []
    },
    {
      "cell_type": "code",
      "metadata": {
        "id": "u3Wak4LyhtrG"
      },
      "source": [
        ""
      ],
      "execution_count": null,
      "outputs": []
    },
    {
      "cell_type": "code",
      "metadata": {
        "id": "UiPDGV_JhtkY"
      },
      "source": [
        ""
      ],
      "execution_count": null,
      "outputs": []
    },
    {
      "cell_type": "markdown",
      "metadata": {
        "id": "EaWy5BIzhiGh"
      },
      "source": [
        "### Ejercicio 3\n",
        "Escribir con palabras un algoritmo que defina los pasos para retirar dinero de un cajero automatico.\n"
      ]
    },
    {
      "cell_type": "code",
      "metadata": {
        "id": "ksELovNdhD3d"
      },
      "source": [
        "inicio-introducir clave/devolver tarjeta introducir clave- ¿Es correcto? Si/No No(introducir clave) Si-operación a realizar - extraer dinero- elegir monto-¿Se puede entregar ese monto? Si/No No (elegir otro monto) Si- ejecutar extración- ¿Seguir operando? Si/No No(devolver tarjeta) Si- volver a operación a realizar "
      ],
      "execution_count": null,
      "outputs": []
    },
    {
      "cell_type": "code",
      "metadata": {
        "id": "T4Pjf3J9iW_C"
      },
      "source": [
        ""
      ],
      "execution_count": null,
      "outputs": []
    },
    {
      "cell_type": "code",
      "metadata": {
        "id": "-hA1QZHwiW7T"
      },
      "source": [
        ""
      ],
      "execution_count": null,
      "outputs": []
    },
    {
      "cell_type": "markdown",
      "metadata": {
        "id": "E8HjgS1jiucd"
      },
      "source": [
        "### Ejercicio 4\n",
        "El algoritmo previamente definido, llevarlo a un diagrama de flujo con la herrmaienta\n",
        "https://lucid.app/documents#/dashboard  "
      ]
    },
    {
      "cell_type": "code",
      "metadata": {
        "id": "asopAzsLiqyn"
      },
      "source": [
        "Link: https://lucid.app/lucidchart/39111842-e2df-4d66-b312-6b201727729d/view?page=0_0&invitationId=inv_57e1cebe-3653-465c-aecf-c82ae5403ecf#"
      ],
      "execution_count": null,
      "outputs": []
    },
    {
      "cell_type": "code",
      "metadata": {
        "id": "bhyfJ-THixBR"
      },
      "source": [
        ""
      ],
      "execution_count": null,
      "outputs": []
    },
    {
      "cell_type": "code",
      "metadata": {
        "id": "YO_W94LTiw-O"
      },
      "source": [
        ""
      ],
      "execution_count": null,
      "outputs": []
    },
    {
      "cell_type": "markdown",
      "metadata": {
        "id": "zJsUOR2eixjj"
      },
      "source": [
        "### Ejercicio 5 \n",
        "Defina con sus palabras que es una variable y que tipos de datos básicos conocemos hasta el momento.\n"
      ]
    },
    {
      "cell_type": "code",
      "metadata": {
        "id": "LiLxUnOZiw5z"
      },
      "source": [
        "Sirven para identificar y almacenar información que uno quiera usar en el código, en vez de tener que escribir todo de nuevo directamente poniendo la variable guardada el programa puede acceder a ella"
      ],
      "execution_count": null,
      "outputs": []
    },
    {
      "cell_type": "code",
      "metadata": {
        "id": "tvTH1x1ui6Zl"
      },
      "source": [
        ""
      ],
      "execution_count": null,
      "outputs": []
    },
    {
      "cell_type": "code",
      "metadata": {
        "id": "wvIO9jwei6t1"
      },
      "source": [
        ""
      ],
      "execution_count": null,
      "outputs": []
    },
    {
      "cell_type": "markdown",
      "metadata": {
        "id": "vhLqd7sqi7i0"
      },
      "source": [
        "### Ejercicio 6\n",
        "Crear una variable precio_accion y asignarle un valor numerico"
      ]
    },
    {
      "cell_type": "code",
      "metadata": {
        "id": "cs-EMZhxjuU0",
        "outputId": "3f72a92f-ed23-4778-c4fd-c689aceccf6d",
        "colab": {
          "base_uri": "https://localhost:8080/"
        }
      },
      "source": [
        "precio_acción = 2000\n",
        "100 + precio_acción"
      ],
      "execution_count": null,
      "outputs": [
        {
          "output_type": "execute_result",
          "data": {
            "text/plain": [
              "2100"
            ]
          },
          "metadata": {},
          "execution_count": 23
        }
      ]
    },
    {
      "cell_type": "code",
      "source": [
        ""
      ],
      "metadata": {
        "id": "O2dbMhkbS9Lu"
      },
      "execution_count": null,
      "outputs": []
    },
    {
      "cell_type": "markdown",
      "metadata": {
        "id": "zPbT47FFjwyI"
      },
      "source": [
        "### Ejercicio 7\n",
        "Crear una variable ticker, que contendrá el nombre de un activo de su preferencia."
      ]
    },
    {
      "cell_type": "code",
      "metadata": {
        "id": "UVz2tAy-j7SZ",
        "outputId": "38f20241-b35c-4ba9-8ced-859298f6c9b3",
        "colab": {
          "base_uri": "https://localhost:8080/"
        }
      },
      "source": [
        "ticker = \"BMA\"\n",
        "print(ticker)"
      ],
      "execution_count": null,
      "outputs": [
        {
          "output_type": "stream",
          "name": "stdout",
          "text": [
            "BMA\n"
          ]
        }
      ]
    },
    {
      "cell_type": "code",
      "metadata": {
        "id": "jpNDMe9Vj86m"
      },
      "source": [
        ""
      ],
      "execution_count": null,
      "outputs": []
    },
    {
      "cell_type": "markdown",
      "metadata": {
        "id": "UWvOlpnTj9a2"
      },
      "source": [
        "### Ejercicio 8\n",
        "Crear un contador que incremente de a una unidad ejecutarlo 3 veces y evaluar el correcto resultado."
      ]
    },
    {
      "cell_type": "code",
      "metadata": {
        "id": "DAvPZBxQkZOc",
        "outputId": "4b62b4d5-e0f0-4db8-fb50-27ab386848aa",
        "colab": {
          "base_uri": "https://localhost:8080/"
        }
      },
      "source": [
        "contador = 1\n",
        "contador + contador\n",
        "contador + contador + contador\n",
        "contador + contador + contador + contador"
      ],
      "execution_count": null,
      "outputs": [
        {
          "output_type": "execute_result",
          "data": {
            "text/plain": [
              "4"
            ]
          },
          "metadata": {},
          "execution_count": 39
        }
      ]
    },
    {
      "cell_type": "code",
      "metadata": {
        "id": "chJXgHFKkakQ"
      },
      "source": [
        ""
      ],
      "execution_count": null,
      "outputs": []
    },
    {
      "cell_type": "markdown",
      "metadata": {
        "id": "7R3-VbCqlLGU"
      },
      "source": [
        "### Ejercicio 9\n",
        "Definir dos variables booleanas sus nombres deben expresar si un cliente puede comprar y si el mercado esta abierto, inicializarlas con los valores de verdad de su preferencia"
      ]
    },
    {
      "cell_type": "code",
      "metadata": {
        "id": "zPRuRlgFlbHn",
        "outputId": "c424f986-7b06-41b8-c0f2-a23859cdeaae",
        "colab": {
          "base_uri": "https://localhost:8080/"
        }
      },
      "source": [
        "puede_comprar = True\n",
        "mercado_abierto = False\n",
        "\n",
        "\n",
        "\n",
        "\n",
        "\n",
        "\n",
        "\n"
      ],
      "execution_count": null,
      "outputs": [
        {
          "output_type": "execute_result",
          "data": {
            "text/plain": [
              "True"
            ]
          },
          "metadata": {},
          "execution_count": 50
        }
      ]
    },
    {
      "cell_type": "code",
      "metadata": {
        "id": "pLYvBvwKlb8x"
      },
      "source": [
        ""
      ],
      "execution_count": null,
      "outputs": []
    },
    {
      "cell_type": "code",
      "metadata": {
        "id": "S8WY4IzHlbz5"
      },
      "source": [
        "### posible solución\n",
        "puede_comprar = True\n",
        "mercado_abierto = False"
      ],
      "execution_count": null,
      "outputs": []
    },
    {
      "cell_type": "markdown",
      "metadata": {
        "id": "uM11ZmAklt3_"
      },
      "source": [
        "### Ejercicio 10 \n",
        " Determinar el operador lógico que devuelva Verdadero si se cumple una de las expresiones, cumplir significa que su valor de verdad es True, utilizar como expresiones las variables previamente definidas."
      ]
    },
    {
      "cell_type": "code",
      "metadata": {
        "id": "4fWYK5FZmOeb",
        "outputId": "3021e8b4-ffd4-40b7-84e8-1308b52cde38",
        "colab": {
          "base_uri": "https://localhost:8080/"
        }
      },
      "source": [
        "puede_comprar = True\n",
        "mercado_abierto = False\n",
        "\n",
        "puede_comprar or mercado_abierto"
      ],
      "execution_count": null,
      "outputs": [
        {
          "output_type": "execute_result",
          "data": {
            "text/plain": [
              "True"
            ]
          },
          "metadata": {},
          "execution_count": 52
        }
      ]
    },
    {
      "cell_type": "code",
      "metadata": {
        "id": "a488IAuImOQX"
      },
      "source": [
        ""
      ],
      "execution_count": null,
      "outputs": []
    },
    {
      "cell_type": "code",
      "metadata": {
        "colab": {
          "base_uri": "https://localhost:8080/"
        },
        "id": "8BvhhCjGmM9A",
        "outputId": "3ff7bb27-6f74-4e92-9300-0efa4f9aefca"
      },
      "source": [
        "### posible solución\n",
        "puede_comprar or mercado_abierto"
      ],
      "execution_count": null,
      "outputs": [
        {
          "output_type": "execute_result",
          "data": {
            "text/plain": [
              "True"
            ]
          },
          "metadata": {},
          "execution_count": 51
        }
      ]
    },
    {
      "cell_type": "markdown",
      "metadata": {
        "id": "Lw4ODMINmvB0"
      },
      "source": [
        "### Ejercicio 11\n",
        " Determinar el operador lógico que devuelva Verdad si se cumplen simultaneamente las dos expresiones, utilizar las variables previamente definidas."
      ]
    },
    {
      "cell_type": "code",
      "metadata": {
        "id": "1pzF9LHImseC"
      },
      "source": [
        "puede_comprar = True\n",
        "mercado_abierto = True\n",
        "\n",
        "puede_comprar and mercado_abierto"
      ],
      "execution_count": null,
      "outputs": []
    },
    {
      "cell_type": "code",
      "metadata": {
        "id": "TCoypqv0m8VD"
      },
      "source": [
        ""
      ],
      "execution_count": null,
      "outputs": []
    },
    {
      "cell_type": "code",
      "metadata": {
        "colab": {
          "base_uri": "https://localhost:8080/"
        },
        "id": "7vbsrkRtm8I7",
        "outputId": "1fb11fb7-1d7d-4799-ba54-2e9bbb744c4c"
      },
      "source": [
        "### posible solución\n",
        "puede_comprar and mercado_abierto"
      ],
      "execution_count": null,
      "outputs": [
        {
          "output_type": "execute_result",
          "data": {
            "text/plain": [
              "False"
            ]
          },
          "metadata": {
            "tags": []
          },
          "execution_count": 10
        }
      ]
    },
    {
      "cell_type": "markdown",
      "metadata": {
        "id": "LemY_eLloRxf"
      },
      "source": [
        "### Ejercicio 12 \n",
        "Determinar el operador lógico que devuelve el valor opuesto a la expresión."
      ]
    },
    {
      "cell_type": "code",
      "metadata": {
        "id": "rYkTwGsBoP7f",
        "outputId": "317aea67-0ed3-406d-b100-7f68f6a1a477",
        "colab": {
          "base_uri": "https://localhost:8080/"
        }
      },
      "source": [
        "not puede_comprar"
      ],
      "execution_count": null,
      "outputs": [
        {
          "output_type": "execute_result",
          "data": {
            "text/plain": [
              "False"
            ]
          },
          "metadata": {},
          "execution_count": 53
        }
      ]
    },
    {
      "cell_type": "code",
      "metadata": {
        "id": "gTlovNHeqFhJ"
      },
      "source": [
        ""
      ],
      "execution_count": null,
      "outputs": []
    },
    {
      "cell_type": "code",
      "metadata": {
        "colab": {
          "base_uri": "https://localhost:8080/"
        },
        "id": "uIcc6pLNqFV7",
        "outputId": "7b033132-5f80-40b6-d962-11f621daeceb"
      },
      "source": [
        "### posible solución\n",
        "not mercado_abierto"
      ],
      "execution_count": null,
      "outputs": [
        {
          "output_type": "execute_result",
          "data": {
            "text/plain": [
              "True"
            ]
          },
          "metadata": {
            "tags": []
          },
          "execution_count": 11
        }
      ]
    },
    {
      "cell_type": "markdown",
      "metadata": {
        "id": "-B1hIj-bqM-V"
      },
      "source": [
        "### Ejercicio 13 \n",
        "Determinar una expresion logica que indique que algo es verdadero, si no ocurre que el cliente puede comprar (variable previamente definida)\n"
      ]
    },
    {
      "cell_type": "code",
      "metadata": {
        "id": "D7-QKtkLqLiO",
        "outputId": "def8b5ad-023e-426c-fd5d-459c71e5039a",
        "colab": {
          "base_uri": "https://localhost:8080/"
        }
      },
      "source": [
        "puede_comprar = False\n",
        "\n",
        "not puede_comprar"
      ],
      "execution_count": null,
      "outputs": [
        {
          "output_type": "execute_result",
          "data": {
            "text/plain": [
              "True"
            ]
          },
          "metadata": {},
          "execution_count": 56
        }
      ]
    },
    {
      "cell_type": "code",
      "metadata": {
        "id": "8NQk12LTqes4"
      },
      "source": [
        ""
      ],
      "execution_count": null,
      "outputs": []
    },
    {
      "cell_type": "code",
      "metadata": {
        "colab": {
          "base_uri": "https://localhost:8080/"
        },
        "id": "oYNSQPE9qeZT",
        "outputId": "857d8245-58cc-4832-f53a-978aa35c6cd0"
      },
      "source": [
        "### posible solución\n",
        "puede_comprar = False\n",
        "not puede_comprar"
      ],
      "execution_count": null,
      "outputs": [
        {
          "output_type": "execute_result",
          "data": {
            "text/plain": [
              "True"
            ]
          },
          "metadata": {},
          "execution_count": 54
        }
      ]
    },
    {
      "cell_type": "markdown",
      "metadata": {
        "id": "QXB9dlbYqtJF"
      },
      "source": [
        "### Ejercicio 14 \n",
        "Determinar una expresion logica que indique que algo es verdadero, si no ocurre que el cliente puede comprar (variable previamente definida) y ademas no es horario de mercado"
      ]
    },
    {
      "cell_type": "code",
      "metadata": {
        "id": "egNa_0STqjyb",
        "outputId": "426970ac-c54e-498f-95dc-2d7f0886c7d5",
        "colab": {
          "base_uri": "https://localhost:8080/"
        }
      },
      "source": [
        "puede_comprar = False\n",
        "mercado_abierto = False\n",
        "\n",
        "not puede_comprar and not mercado_abierto"
      ],
      "execution_count": null,
      "outputs": [
        {
          "output_type": "execute_result",
          "data": {
            "text/plain": [
              "True"
            ]
          },
          "metadata": {},
          "execution_count": 57
        }
      ]
    },
    {
      "cell_type": "code",
      "metadata": {
        "id": "ONUR8UMHq12W"
      },
      "source": [
        ""
      ],
      "execution_count": null,
      "outputs": []
    },
    {
      "cell_type": "code",
      "metadata": {
        "colab": {
          "base_uri": "https://localhost:8080/"
        },
        "id": "4oMAFvZnq1DJ",
        "outputId": "aace2a1b-e66f-4696-db9b-b670d04044f4"
      },
      "source": [
        "### posible solución\n",
        "puede_comprar = False\n",
        "mercado_abierto = False \n",
        "not puede_comprar and not mercado_abierto"
      ],
      "execution_count": null,
      "outputs": [
        {
          "output_type": "execute_result",
          "data": {
            "text/plain": [
              "True"
            ]
          },
          "metadata": {
            "tags": []
          },
          "execution_count": 14
        }
      ]
    },
    {
      "cell_type": "markdown",
      "metadata": {
        "id": "AM3HSpS1rJoL"
      },
      "source": [
        "### Ejercicio 15 \n",
        "Escribir un programa que contenga tres variables\n",
        "- una con un valor entero.\n",
        "- una con un valor con numeros decimales.\n",
        "- una con una cadena de caracteres."
      ]
    },
    {
      "cell_type": "code",
      "metadata": {
        "id": "JVTPbn4CreQu"
      },
      "source": [
        "Acciones = 10\n",
        "Precio = 211.11\n",
        "Ticker = \"GGAL\""
      ],
      "execution_count": null,
      "outputs": []
    },
    {
      "cell_type": "code",
      "metadata": {
        "id": "X0cNLCaJreeH"
      },
      "source": [
        ""
      ],
      "execution_count": null,
      "outputs": []
    },
    {
      "cell_type": "code",
      "metadata": {
        "id": "lqs5W9arreT9"
      },
      "source": [
        "### posible solución\n",
        "entero = 1\n",
        "flotante = 1.23\n",
        "cadena = \"hola!\""
      ],
      "execution_count": null,
      "outputs": []
    },
    {
      "cell_type": "markdown",
      "metadata": {
        "id": "g1XamuF6rfW0"
      },
      "source": [
        "### Ejercicio 16\n",
        "Ulitizando las 3 variables anteriormente definidas se pide por medio de print y type, mostrar por pantalla el tipo de dato que contiene cada variable."
      ]
    },
    {
      "cell_type": "code",
      "metadata": {
        "id": "zB41LiNErv9U",
        "outputId": "0e2efcfb-4ee7-4236-b0a4-2910da2b0b50",
        "colab": {
          "base_uri": "https://localhost:8080/"
        }
      },
      "source": [
        "print(type(Acciones))\n",
        "print(type(Precio))\n",
        "print(type(Ticker))"
      ],
      "execution_count": null,
      "outputs": [
        {
          "output_type": "stream",
          "name": "stdout",
          "text": [
            "<class 'int'>\n",
            "<class 'float'>\n",
            "<class 'str'>\n"
          ]
        }
      ]
    },
    {
      "cell_type": "code",
      "metadata": {
        "id": "EbTTDBa_r59E"
      },
      "source": [
        ""
      ],
      "execution_count": null,
      "outputs": []
    },
    {
      "cell_type": "code",
      "metadata": {
        "colab": {
          "base_uri": "https://localhost:8080/"
        },
        "id": "oixDc1Q9r555",
        "outputId": "257ac935-803b-4376-faea-57cc5c71c7c8"
      },
      "source": [
        "### posible solución\n",
        "print(type(entero))\n",
        "print(type(flotante))\n",
        "print(type(cadena))"
      ],
      "execution_count": null,
      "outputs": [
        {
          "output_type": "stream",
          "text": [
            "<class 'int'>\n",
            "<class 'float'>\n",
            "<class 'str'>\n"
          ],
          "name": "stdout"
        }
      ]
    },
    {
      "cell_type": "code",
      "metadata": {
        "id": "w0_wOMofr52F"
      },
      "source": [
        ""
      ],
      "execution_count": null,
      "outputs": []
    }
  ]
}