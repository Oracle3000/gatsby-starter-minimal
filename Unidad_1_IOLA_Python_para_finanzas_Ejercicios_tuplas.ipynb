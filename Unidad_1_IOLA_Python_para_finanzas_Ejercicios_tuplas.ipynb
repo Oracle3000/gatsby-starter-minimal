{
  "nbformat": 4,
  "nbformat_minor": 0,
  "metadata": {
    "kernelspec": {
      "display_name": "Python3",
      "language": "python",
      "name": "python3"
    },
    "language_info": {
      "codemirror_mode": {
        "name": "ipython",
        "version": 2
      },
      "file_extension": ".py",
      "mimetype": "text/x-python",
      "name": "python",
      "nbconvert_exporter": "python",
      "pygments_lexer": "ipython2",
      "version": "2.7.16"
    },
    "varInspector": {
      "cols": {
        "lenName": 16,
        "lenType": 16,
        "lenVar": 40
      },
      "kernels_config": {
        "python": {
          "delete_cmd_postfix": "",
          "delete_cmd_prefix": "del ",
          "library": "var_list.py",
          "varRefreshCmd": "print(var_dic_list())"
        },
        "r": {
          "delete_cmd_postfix": ") ",
          "delete_cmd_prefix": "rm(",
          "library": "var_list.r",
          "varRefreshCmd": "cat(var_dic_list()) "
        }
      },
      "types_to_exclude": [
        "module",
        "function",
        "builtin_function_or_method",
        "instance",
        "_Feature"
      ],
      "window_display": false
    },
    "colab": {
      "name": "Unidad 1: IOLA Python para finanzas - Ejercicios tuplas.ipynb",
      "provenance": [],
      "collapsed_sections": [],
      "include_colab_link": true
    }
  },
  "cells": [
    {
      "cell_type": "markdown",
      "metadata": {
        "id": "view-in-github",
        "colab_type": "text"
      },
      "source": [
        "<a href=\"https://colab.research.google.com/github/Oracle3000/gatsby-starter-minimal/blob/master/Unidad_1_IOLA_Python_para_finanzas_Ejercicios_tuplas.ipynb\" target=\"_parent\"><img src=\"https://colab.research.google.com/assets/colab-badge.svg\" alt=\"Open In Colab\"/></a>"
      ]
    },
    {
      "cell_type": "markdown",
      "metadata": {
        "id": "pAaZsRMOncIa"
      },
      "source": [
        "### Guía ejercicios tuplas\n",
        "\n"
      ]
    },
    {
      "cell_type": "markdown",
      "metadata": {
        "id": "bdxtSZnFncIb"
      },
      "source": [
        "#### Ejercicio 1 - Modelando información: \n",
        "Crear una tupla que representa una orden de venta de una activo. \n",
        "La misma debe contar con un string que representa un ticker, un entero que representa la cantidad de nominales, un float que modela al precio de venta, un datetime que representa el instante en que se colocó orden, un string que representa el plazo de liquidación y un string que referencia el mercado.\n",
        "\n",
        "En la posición 0 el ticker, en la 1 es la cantidad de nominales, la 2 precio de venta, la 3 representa instante de la orden, la 4 el plazo de liquidación y la 5 el mercado donde se coloca."
      ]
    },
    {
      "cell_type": "code",
      "metadata": {
        "id": "3c2TYJeOncIp"
      },
      "source": [
        "orden_venta = (\"GGAL\",10,211.11,20222501,\"CI\",\"BCBA\")"
      ],
      "execution_count": null,
      "outputs": []
    },
    {
      "cell_type": "markdown",
      "metadata": {
        "id": "dAmj3CIQncIs"
      },
      "source": [
        "#### Ejercicio 2 \n",
        "Crear un libro de ordenes formado por dos listas una lista que representa la compra y otra la venta, cada lista esta constituida por 5 tuplas de un mismo activo lo mismo para la venta."
      ]
    },
    {
      "cell_type": "code",
      "metadata": {
        "id": "wuuLNfTNl0uI"
      },
      "source": [
        "orden_venta = (\"GGAL\",10,211.11,20222501,\"CI\",\"BCBA\")\n",
        "orden_venta2 = (\"GGAL\",10,200,20222501,\"CI\",\"BCBA\")\n"
      ],
      "execution_count": 2,
      "outputs": []
    },
    {
      "cell_type": "markdown",
      "metadata": {
        "id": "hoqp5LdBncIw"
      },
      "source": [
        "#### Ejercicio 3\n",
        "Crear una tupla cartera compuesta por, un usuario formato string, una lista de tuplas que representara al portafolio , cada tupla esta compuesta por ticker, cantidad de nominales, precio promedio de compra, instante de adquisición del activo)"
      ]
    },
    {
      "cell_type": "code",
      "metadata": {
        "id": "DUNenJCUqVMS",
        "outputId": "d0574dc3-c47a-431a-e004-c190f71b74c7",
        "colab": {
          "base_uri": "https://localhost:8080/"
        }
      },
      "source": [
        "cartera = (\"Mariano\",(orden_venta,orden_venta2))\n",
        "print(cartera)"
      ],
      "execution_count": 4,
      "outputs": [
        {
          "output_type": "stream",
          "name": "stdout",
          "text": [
            "('Mariano', (('GGAL', 10, 211.11, 20222501, 'CI', 'BCBA'), ('GGAL', 10, 200, 20222501, 'CI', 'BCBA')))\n"
          ]
        }
      ]
    },
    {
      "cell_type": "markdown",
      "metadata": {
        "id": "CxJtybzvncI2"
      },
      "source": [
        "#### Ejercicio 4\n",
        "En la tupla cartera, acceder al la representacion del portafolios por indice y traer la segunda tupla de dicha lista."
      ]
    },
    {
      "cell_type": "code",
      "metadata": {
        "id": "AUWeYfHKrwOX",
        "outputId": "93a916a0-73cd-4a61-c28e-232e39333dac",
        "colab": {
          "base_uri": "https://localhost:8080/",
          "height": 200
        }
      },
      "source": [
        ""
      ],
      "execution_count": 14,
      "outputs": [
        {
          "output_type": "error",
          "ename": "NameError",
          "evalue": "ignored",
          "traceback": [
            "\u001b[0;31m---------------------------------------------------------------------------\u001b[0m",
            "\u001b[0;31mNameError\u001b[0m                                 Traceback (most recent call last)",
            "\u001b[0;32m<ipython-input-14-3573ec437dbe>\u001b[0m in \u001b[0;36m<module>\u001b[0;34m()\u001b[0m\n\u001b[0;32m----> 1\u001b[0;31m \u001b[0mposicion\u001b[0m \u001b[0;34m=\u001b[0m \u001b[0mindex\u001b[0m\u001b[0;34m(\u001b[0m\u001b[0mcartera\u001b[0m\u001b[0;34m)\u001b[0m\u001b[0;34m\u001b[0m\u001b[0;34m\u001b[0m\u001b[0m\n\u001b[0m\u001b[1;32m      2\u001b[0m \u001b[0mprint\u001b[0m\u001b[0;34m(\u001b[0m\u001b[0mposicion\u001b[0m\u001b[0;34m)\u001b[0m\u001b[0;34m\u001b[0m\u001b[0;34m\u001b[0m\u001b[0m\n\u001b[1;32m      3\u001b[0m \u001b[0mprint\u001b[0m\u001b[0;34m(\u001b[0m\u001b[0mcartera\u001b[0m\u001b[0;34m)\u001b[0m\u001b[0;34m\u001b[0m\u001b[0;34m\u001b[0m\u001b[0m\n",
            "\u001b[0;31mNameError\u001b[0m: name 'index' is not defined"
          ]
        }
      ]
    }
  ]
}